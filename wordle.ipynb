{
 "cells": [
  {
   "cell_type": "code",
   "execution_count": null,
   "id": "459991ac",
   "metadata": {},
   "outputs": [],
   "source": [
    "!pip install english-words"
   ]
  },
  {
   "cell_type": "code",
   "execution_count": null,
   "id": "b677fbf0",
   "metadata": {},
   "outputs": [],
   "source": [
    "import english_words\n",
    "def get_all_words(length=5):\n",
    "    return [x for x in list(english_words.english_words_lower_alpha_set) if len(x) == length]\n"
   ]
  },
  {
   "cell_type": "code",
   "execution_count": null,
   "id": "41f1258e",
   "metadata": {},
   "outputs": [],
   "source": [
    "def guess_words(all_words, dict_of_green, dict_of_yellow, list_of_absent):\n",
    "    list_of_final_words = list()\n",
    "    \n",
    "    for each_word in all_words:\n",
    "        \n",
    "        \n",
    "        yellow_flag = True\n",
    "        green_flag = True\n",
    "        yellow_pos_flag = True\n",
    "        absent_flag = True\n",
    "        list_of_yellow = dict_of_yellow.values()\n",
    "        \n",
    "        for position, letter in dict_of_yellow.items():\n",
    "            if each_word[position] == dict_of_yellow[position]:\n",
    "                yellow_pos_flag = False\n",
    "        if not yellow_pos_flag:\n",
    "            continue\n",
    "       \n",
    "        \n",
    "        for each_letter in list_of_yellow:\n",
    "            if each_letter not in each_word:\n",
    "                yellow_flag = False\n",
    "                break\n",
    "        if not yellow_flag:\n",
    "            continue\n",
    "       \n",
    "       \n",
    "        for position, letter in dict_of_green.items():\n",
    "            if each_word[position] != dict_of_green[position]:\n",
    "                green_flag = False\n",
    "                break\n",
    "        if not green_flag:\n",
    "            continue\n",
    "        \n",
    "        if len(set(list_of_absent).intersection(set(each_word))) > 0:\n",
    "            absent_flag = False\n",
    "        if not absent_flag:\n",
    "            continue\n",
    "        \n",
    "        \n",
    "        \n",
    "        #print(each_word)\n",
    "        list_of_final_words.append(each_word)\n",
    "\n",
    "    return list_of_final_words\n",
    "        "
   ]
  },
  {
   "cell_type": "code",
   "execution_count": null,
   "id": "5fc35ca2",
   "metadata": {},
   "outputs": [],
   "source": [
    "list_of_words = get_all_words(5)\n",
    "\n",
    "list_of_guessed_words = list()\n",
    "dict_of_green = dict()\n",
    "dict_of_yellow = list()\n",
    "list_of_absent = list()\n",
    "while True:\n",
    "    word = input(\"Enter your guessed word\")\n",
    "    list_of_guessed_words.append(word)\n",
    "    \n",
    "    green = input(\"Enter the green positions seperated by ',', start with 1 and end with 5, enter 0 if no green positions\\n\")\n",
    "    yellow = input(\"Enter the yellow positions seperated by ',', start with 1 and end with 5, enter 0 if no yellow positions\\n\")\n",
    "    \n",
    "    if green != 0 and green != None and green != '0':\n",
    "        dict_of_green = {int(x)-1:word[int(x)-1] for x in green.split(\",\")}\n",
    "    print(dict_of_green)\n",
    "    \n",
    "    if yellow != 0 and yellow != None and yellow != '0':\n",
    "        dict_of_yellow = {int(x)-1:word[int(x)-1] for x in yellow.split(\",\")}\n",
    "    print(dict_of_yellow)\n",
    "    \n",
    "    list_of_present = list(dict_of_green.values()) + list(dict_of_yellow.values())\n",
    "    list_of_absent.extend([x for x in word if x not in list_of_present])\n",
    "    print(list_of_absent)\n",
    "    \n",
    "    \n",
    "    list_of_potential_words = guess_words(list_of_words, dict_of_green, dict_of_yellow, list_of_absent)\n",
    "    print(list_of_potential_words)"
   ]
  },
  {
   "cell_type": "code",
   "execution_count": null,
   "id": "60a71fa1",
   "metadata": {},
   "outputs": [],
   "source": []
  }
 ],
 "metadata": {
  "kernelspec": {
   "display_name": "Python 3 (ipykernel)",
   "language": "python",
   "name": "python3"
  },
  "language_info": {
   "codemirror_mode": {
    "name": "ipython",
    "version": 3
   },
   "file_extension": ".py",
   "mimetype": "text/x-python",
   "name": "python",
   "nbconvert_exporter": "python",
   "pygments_lexer": "ipython3",
   "version": "3.9.0"
  }
 },
 "nbformat": 4,
 "nbformat_minor": 5
}
