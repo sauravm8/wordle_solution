{
 "cells": [
  {
   "cell_type": "code",
   "execution_count": 1,
   "id": "70d72194",
   "metadata": {},
   "outputs": [
    {
     "name": "stdout",
     "output_type": "stream",
     "text": [
      "Requirement already satisfied: english-words in c:\\python39\\lib\\site-packages (1.1.0)"
     ]
    },
    {
     "name": "stderr",
     "output_type": "stream",
     "text": [
      "WARNING: You are using pip version 20.2.3; however, version 22.0.3 is available.\n",
      "You should consider upgrading via the 'c:\\python39\\python.exe -m pip install --upgrade pip' command.\n"
     ]
    },
    {
     "name": "stdout",
     "output_type": "stream",
     "text": [
      "\n"
     ]
    }
   ],
   "source": [
    "!pip install english-words"
   ]
  },
  {
   "cell_type": "code",
   "execution_count": 2,
   "id": "301ff270",
   "metadata": {},
   "outputs": [],
   "source": [
    "import english_words\n",
    "def get_all_words(length=5):\n",
    "    return [x for x in list(english_words.english_words_lower_alpha_set) if len(x) == length]\n"
   ]
  },
  {
   "cell_type": "code",
   "execution_count": 3,
   "id": "491b2ad0",
   "metadata": {},
   "outputs": [],
   "source": [
    "def guess_words(all_words, dict_of_green, dict_of_yellow, list_of_absent):\n",
    "    list_of_final_words = list()\n",
    "    \n",
    "    for each_word in all_words:\n",
    "        \n",
    "        \n",
    "        yellow_flag = True\n",
    "        green_flag = True\n",
    "        yellow_pos_flag = True\n",
    "        absent_flag = True\n",
    "        list_of_yellow = dict_of_yellow.values()\n",
    "        \n",
    "        for position, letter in dict_of_yellow.items():\n",
    "            if each_word[position] == dict_of_yellow[position]:\n",
    "                yellow_pos_flag = False\n",
    "        if not yellow_pos_flag:\n",
    "            continue\n",
    "       \n",
    "        \n",
    "        for each_letter in list_of_yellow:\n",
    "            if each_letter not in each_word:\n",
    "                yellow_flag = False\n",
    "                break\n",
    "        if not yellow_flag:\n",
    "            continue\n",
    "       \n",
    "       \n",
    "        for position, letter in dict_of_green.items():\n",
    "            if each_word[position] != dict_of_green[position]:\n",
    "                green_flag = False\n",
    "                break\n",
    "        if not green_flag:\n",
    "            continue\n",
    "        \n",
    "        if len(set(list_of_absent).intersection(set(each_word))) > 0:\n",
    "            absent_flag = False\n",
    "        if not absent_flag:\n",
    "            continue\n",
    "        \n",
    "        \n",
    "        \n",
    "        #print(each_word)\n",
    "        list_of_final_words.append(each_word)\n",
    "\n",
    "    return list_of_final_words\n",
    "        "
   ]
  },
  {
   "cell_type": "code",
   "execution_count": null,
   "id": "f6681a9f",
   "metadata": {},
   "outputs": [
    {
     "name": "stdout",
     "output_type": "stream",
     "text": [
      "Enter your guessed wordprime\n",
      "Enter the green positions seperated by ',', start with 1 and end with 5, enter 0 if no green positions\n",
      "0\n",
      "Enter the yellow positions seperated by ',', start with 1 and end with 5, enter 0 if no yellow positions\n",
      "0\n",
      "{}\n",
      "{}\n",
      "['p', 'r', 'i', 'm', 'e']\n",
      "['hondo', 'nodal', 'sloan', 'canny', 'bandy', 'allah', 'local', 'shant', 'tansy', 'blond', 'gaunt', 'honky', 'volta', 'lofty', 'foggy', 'chang', 'chuck', 'shall', 'calyx', 'bobby', 'lobby', 'wally', 'vacua', 'toast', 'scoot', 'wholl', 'scuba', 'gassy', 'junky', 'alton', 'sylow', 'bantu', 'facto', 'staff', 'flack', 'bonus', 'bland', 'bawdy', 'couch', 'booby', 'swank', 'locus', 'jolla', 'lagos', 'koala', 'scala', 'snout', 'thank', 'lanky', 'savoy', 'bogus', 'shown', 'kudzu', 'laugh', 'scowl', 'flout', 'colon', 'bayda', 'annoy', 'watch', 'santo', 'baton', 'codon', 'total', 'junta', 'talon', 'claus', 'cluck', 'boast', 'allan', 'booky', 'gonad', 'vocal', 'honda', 'janus', 'cajun', 'bossy', 'wound', 'sulfa', 'colby', 'conch', 'buddy', 'clown', 'boggy', 'sough', 'goofy', 'bundy', 'cabot', 'lunch', 'cathy', 'blast', 'loyal', 'slang', 'flask', 'anglo', 'knott', 'skulk', 'squaw', 'ducat', 'gutsy', 'calla', 'fugal', 'fount', 'hasnt', 'woody', 'gauzy', 'cooky', 'baldy', 'hoagy', 'lousy', 'sandy', 'blanc', 'stony', 'hatch', 'jacob', 'jonas', 'fatal', 'oxbow', 'taboo', 'snook', 'notch', 'santa', 'shoot', 'hound', 'slosh', 'south', 'gunny', 'alloy', 'slash', 'blown', 'stock', 'sousa', 'dully', 'fanny', 'shako', 'canto', 'saxon', 'shuck', 'allyn', 'waltz', 'shack', 'dobbs', 'bunny', 'coast', 'youth', 'talus', 'scout', 'bully', 'lolly', 'slack', 'kulak', 'awash', 'flock', 'doubt', 'quaff', 'vodka', 'walsh', 'scant', 'donna', 'wyatt', 'dough', 'youll', 'dutch', 'boson', 'balky', 'xhosa', 'chaff', 'fussy', 'blush', 'aback', 'study', 'shank', 'butyl', 'talky', 'shock', 'volvo', 'abash', 'taunt', 'buggy', 'sachs', 'janos', 'u.s.a', 'kabul', 'bulky', 'count', 'hogan', 'cobol', 'vacuo', 'yalta', 'savvy', 'banjo', 'sully', 'allyl', 'tough', 'clock', 'olson', 'boost', 'agony', 'stall', 'annal', 'kyoto', 'congo', 'joust', 'chalk', 'cabal', 'catch', 'salty', 'haydn', 'vaduz', 'ghana', 'cotta', 'cough', 'hanna', 'naval', 'flung', 'tango', 'offal', 'sloth', 'flash', 'lucky', 'satan', 'stunk', 'glans', 'sudan', 'algal', 'slunk', 'hasty', 'dolan', 'fuchs', 'loath', 'vault', 'alcoa', 'haunt', 'waals', 'gunky', 'stalk', 'baggy', 'snuff', 'flaky', 'scald', 'nasty', 'known', 'yucca', 'cloak', 'tanya', 'washy', 'gouda', 'vouch', 'wotan', 'sunny', 'cocky', 'booth', 'dandy', 'lucas', 'would', 'fluff', 'chant', 'about', 'sulky', 'floyd', 'shady', 'annul', 'cuzco', 'downy', 'fauna', 'bunch', 'luzon', 'stool', 'cacao', 'holly', 'found', 'flynn', 'hubby', 'dally', 'wolff', 'ghoul', 'butch', 'shook', 'gusty', 'shyly', 'chuff', 'fatty', 'dugan', 'soggy', 'thong', 'stagy', 'fancy', 'daffy', 'walla', 'hough', 'allow', 'ababa', 'stung', 'tokyo', 'banal', 'waldo', 'wasnt', 'solon', 'bough', 'aloha', 'jazzy', 'salvo', 'fully', 'folly', 'shunt', 'quash', 'flush', 'busch', 'sault', 'hooch', 'gland', 'taffy', 'duffy', 'natal', 'flunk', 'sauna', 'cloth', 'salad', 'sonny', 'slant', 'lusty', 'danny', 'judas', 'wacky', 'hokan', 'caddy', 'float', 'goody', 'canon', 'balsa', 'stoat', 'ought', 'gloss', 'swung', 'algol', 'usual', 'tatty', 'coyly', 'bacon', 'guano', 'nasal', 'dusky', 'yacht', 'kazoo', 'gauss', 'fusty', 'acton', 'cycad', 'abyss', 'focal', 'along', 'knock', 'gould', 'skull', 'clash', 'gnash', 'scuff', 'could', 'allot', 'basso', 'showy', 'osaka', 'angst', 'stuff', 'allay', 'jowly', 'clout', 'slush', 'cotty', 'tulsa', 'chunk', 'assay', 'booty', 'yukon', 'gulch', 'gloat', 'synod', 'byway', 'chaos', 'bosch', 'squad', 'quota', 'hunch', 'jolly', 'jason', 'latus', 'bylaw', 'bloch', 'cowan', 'atoll', 'latch', 'sound', 'flood', 'tawny', 'atlas', 'bushy', 'husky', 'quack', 'blatz', 'whack', 'gaudy', 'cocoa', 'klaus', 'howdy', 'gusto', 'bluff', 'caulk', 'hadnt', 'tacky', 'fuzzy', 'botch', 'laban', 'lynch', 'tyson', 'aloof', 'stank', 'colza', 'abbot', 'focus', 'stash', 'lasso', 'scaly', 'gabon', 'dacca', 'tooth', 'snack', 'lotus', 'glass', 'saucy', 'blunt', 'cubby', 'lloyd', 'tonal', 'batch', 'skunk', 'bloat', 'clank', 'logan', 'octal', 'kafka', 'daunt', 'snowy', 'bayou', 'aloud', 'snafu', 'golly', 'kathy', 'tangy', 'stunt', 'angus', 'nancy', 'slung', 'sooth', 'nylon', 'anton', 'susan', 'natty', 'dusty', 'fault', 'stacy', 'havoc', 'gully', 'hausa', 'salon', 'stand', 'bound', 'junco', 'blood', 'handy', 'class', 'stack', 'adult', 'tasty', 'dylan', 'basal', 'squat', 'swath', 'candy', 'coach', 'black', 'buzzy', 'awful', 'thatd', 'ghost', 'chock', 'lanka', 'scott', 'knack', 'hutch', 'holst', 'blank', 'stood', 'novak', 'toddy', 'costa', 'agway', 'young', 'knoll', 'touch', 'abbas', 'dolly', 'funny', 'canal', 'stout', 'shaky', 'bongo', 'clang', 'stahl', 'zloty', 'cloud', 'stuck', 'tally', 'taxon', 'shawl', 'block', 'today', 'scoff', 'nawab', 'clung', 'wuhan', 'nolan', 'funky', 'flank', 'canna', 'flown', 'toady', 'lossy', 'jacky', 'hobby', 'shout', 'daddy', 'faust', 'aloft', 'afoot', 'scull', 'shaft', 'hobbs', 'shoal', 'whatd', 'gawky', 'kodak', 'scold', 'sally']\n",
      "Enter your guessed wordbacon\n",
      "Enter the green positions seperated by ',', start with 1 and end with 5, enter 0 if no green positions\n",
      "0\n",
      "Enter the yellow positions seperated by ',', start with 1 and end with 5, enter 0 if no yellow positions\n",
      "2,3,5\n",
      "{}\n",
      "{1: 'a', 2: 'c', 4: 'n'}\n",
      "['p', 'r', 'i', 'm', 'e', 'b', 'o']\n",
      "['chang', 'scant', 'chant', 'snack', 'clank', 'knack', 'clang']\n",
      "Enter your guessed wordsnack\n",
      "Enter the green positions seperated by ',', start with 1 and end with 5, enter 0 if no green positions\n",
      "3\n",
      "Enter the yellow positions seperated by ',', start with 1 and end with 5, enter 0 if no yellow positions\n",
      "2,4\n",
      "{2: 'a'}\n",
      "{1: 'n', 3: 'c'}\n",
      "['p', 'r', 'i', 'm', 'e', 'b', 'o', 's', 'k']\n",
      "['chang', 'chant', 'clang']\n"
     ]
    }
   ],
   "source": [
    "list_of_words = get_all_words(5)\n",
    "\n",
    "list_of_guessed_words = list()\n",
    "dict_of_green = dict()\n",
    "dict_of_yellow = dict()\n",
    "list_of_absent = list()\n",
    "while True:\n",
    "    word = input(\"Enter your guessed word\")\n",
    "    list_of_guessed_words.append(word)\n",
    "    \n",
    "    green = input(\"Enter the green positions seperated by ',', start with 1 and end with 5, enter 0 if no green positions\\n\")\n",
    "    yellow = input(\"Enter the yellow positions seperated by ',', start with 1 and end with 5, enter 0 if no yellow positions\\n\")\n",
    "    \n",
    "    if green != 0 and green != None and green != '0':\n",
    "        dict_of_green = {int(x)-1:word[int(x)-1] for x in green.split(\",\")}\n",
    "    print(dict_of_green)\n",
    "    \n",
    "    if yellow != 0 and yellow != None and yellow != '0':\n",
    "        dict_of_yellow = {int(x)-1:word[int(x)-1] for x in yellow.split(\",\")}\n",
    "    print(dict_of_yellow)\n",
    "    \n",
    "    list_of_present = list(dict_of_green.values()) + list(dict_of_yellow.values())\n",
    "    list_of_absent.extend([x for x in word if x not in list_of_present])\n",
    "    print(list_of_absent)\n",
    "    \n",
    "    \n",
    "    list_of_potential_words = guess_words(list_of_words, dict_of_green, dict_of_yellow, list_of_absent)\n",
    "    print(list_of_potential_words)"
   ]
  },
  {
   "cell_type": "code",
   "execution_count": null,
   "id": "fa848a0a",
   "metadata": {},
   "outputs": [],
   "source": []
  }
 ],
 "metadata": {
  "kernelspec": {
   "display_name": "Python 3 (ipykernel)",
   "language": "python",
   "name": "python3"
  },
  "language_info": {
   "codemirror_mode": {
    "name": "ipython",
    "version": 3
   },
   "file_extension": ".py",
   "mimetype": "text/x-python",
   "name": "python",
   "nbconvert_exporter": "python",
   "pygments_lexer": "ipython3",
   "version": "3.9.0"
  }
 },
 "nbformat": 4,
 "nbformat_minor": 5
}
